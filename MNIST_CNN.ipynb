{
  "nbformat": 4,
  "nbformat_minor": 0,
  "metadata": {
    "colab": {
      "name": "MNIST_CNN.ipynb",
      "provenance": [],
      "include_colab_link": true
    },
    "kernelspec": {
      "name": "python3",
      "display_name": "Python 3"
    },
    "accelerator": "GPU"
  },
  "cells": [
    {
      "cell_type": "markdown",
      "metadata": {
        "id": "view-in-github",
        "colab_type": "text"
      },
      "source": [
        "<a href=\"https://colab.research.google.com/github/KDOXG/Inteligencia-Artificial/blob/master/MNIST_CNN.ipynb\" target=\"_parent\"><img src=\"https://colab.research.google.com/assets/colab-badge.svg\" alt=\"Open In Colab\"/></a>"
      ]
    },
    {
      "cell_type": "markdown",
      "metadata": {
        "id": "fRo5CE7vxX0d",
        "colab_type": "text"
      },
      "source": [
        "# **MNIST Convolutional Neural Network**\n",
        "\n",
        "\n",
        "<img src=\"https://www.researchgate.net/profile/Steven_Young11/publication/306056875/figure/fig1/AS:393921575309346@1470929630835/Example-images-from-the-MNIST-dataset.png\" width=\"250\" />\n",
        "\n",
        "[Dataset link](http://yann.lecun.com/exdb/mnist/)"
      ]
    },
    {
      "cell_type": "code",
      "metadata": {
        "id": "vdSrMdqvvIXD",
        "colab_type": "code",
        "colab": {}
      },
      "source": [
        "%matplotlib inline\n",
        "\n",
        "import torch\n",
        "import torch.nn as nn\n",
        "import torch.nn.functional as F\n",
        "from torch.utils.data import DataLoader\n",
        "\n",
        "import torchvision\n",
        "import torchvision.transforms as transforms\n",
        "\n",
        "import numpy as np\n",
        "import pandas as pd\n",
        "import matplotlib.pyplot as plt\n",
        "import seaborn as sn\n",
        "from sklearn.metrics import confusion_matrix"
      ],
      "execution_count": 0,
      "outputs": []
    },
    {
      "cell_type": "code",
      "metadata": {
        "id": "wEboZoXJ4Tfh",
        "colab_type": "code",
        "outputId": "c6b282bf-4769-41c2-a44b-9010db187cd2",
        "colab": {
          "base_uri": "https://localhost:8080/",
          "height": 34
        }
      },
      "source": [
        "print(torch.__version__)"
      ],
      "execution_count": 0,
      "outputs": [
        {
          "output_type": "stream",
          "text": [
            "1.3.0+cu100\n"
          ],
          "name": "stdout"
        }
      ]
    },
    {
      "cell_type": "code",
      "metadata": {
        "id": "eiyrlTm64UIB",
        "colab_type": "code",
        "colab": {}
      },
      "source": [
        "BATCH_SIZE = 32\n",
        "\n",
        "transform = transforms.Compose([transforms.ToTensor()])\n",
        "\n",
        "trainset = torchvision.datasets.MNIST(root='./data', train=True,\n",
        "                                        download=True, transform=transform)\n",
        "\n",
        "testset = torchvision.datasets.MNIST(root='./data', train=False,\n",
        "                                       download=True, transform=transform)\n",
        "\n",
        "train_loader = torch.utils.data.DataLoader(trainset, batch_size=BATCH_SIZE, shuffle=True)\n",
        "\n",
        "test_loader = torch.utils.data.DataLoader(testset, batch_size=BATCH_SIZE, shuffle=True)"
      ],
      "execution_count": 0,
      "outputs": []
    },
    {
      "cell_type": "code",
      "metadata": {
        "id": "3VAxOPz44Z6K",
        "colab_type": "code",
        "outputId": "a6a4c7cd-7fd4-444f-b0e2-1a557a346340",
        "colab": {
          "base_uri": "https://localhost:8080/",
          "height": 286
        }
      },
      "source": [
        "print(trainset)\n",
        "print(testset)"
      ],
      "execution_count": 0,
      "outputs": [
        {
          "output_type": "stream",
          "text": [
            "Dataset MNIST\n",
            "    Number of datapoints: 60000\n",
            "    Root location: ./data\n",
            "    Split: Train\n",
            "    StandardTransform\n",
            "Transform: Compose(\n",
            "               ToTensor()\n",
            "           )\n",
            "Dataset MNIST\n",
            "    Number of datapoints: 10000\n",
            "    Root location: ./data\n",
            "    Split: Test\n",
            "    StandardTransform\n",
            "Transform: Compose(\n",
            "               ToTensor()\n",
            "           )\n"
          ],
          "name": "stdout"
        }
      ]
    },
    {
      "cell_type": "code",
      "metadata": {
        "id": "_royf1iF4dAo",
        "colab_type": "code",
        "outputId": "613a0acd-ec36-4c73-bf74-9da5efe96126",
        "colab": {
          "base_uri": "https://localhost:8080/",
          "height": 220
        }
      },
      "source": [
        "def imshow(img):\n",
        "    npimg = img.numpy()\n",
        "    plt.imshow(np.transpose(npimg, (1, 2, 0)))\n",
        "\n",
        "dataiter = iter(train_loader)\n",
        "images, labels = dataiter.next()\n",
        "\n",
        "imshow(torchvision.utils.make_grid(images))"
      ],
      "execution_count": 0,
      "outputs": [
        {
          "output_type": "display_data",
          "data": {
            "image/png": "[encoded data removed]",
            "text/plain": [
              "<Figure size 432x288 with 1 Axes>"
            ]
          },
          "metadata": {
            "tags": []
          }
        }
      ]
    },
    {
      "cell_type": "code",
      "metadata": {
        "id": "iDVHSTM_4gRS",
        "colab_type": "code",
        "outputId": "243077a2-7f5c-4ea4-ced8-f12d1e22da47",
        "colab": {
          "base_uri": "https://localhost:8080/",
          "height": 50
        }
      },
      "source": [
        "for images, labels in train_loader:\n",
        "    print(\"Image batch dimensions:\", images.shape)\n",
        "    print(\"Image label dimensions:\", labels.shape)\n",
        "    break"
      ],
      "execution_count": 0,
      "outputs": [
        {
          "output_type": "stream",
          "text": [
            "Image batch dimensions: torch.Size([32, 1, 28, 28])\n",
            "Image label dimensions: torch.Size([32])\n"
          ],
          "name": "stdout"
        }
      ]
    },
    {
      "cell_type": "code",
      "metadata": {
        "id": "vBQ7GdXG4iB0",
        "colab_type": "code",
        "colab": {}
      },
      "source": [
        "class CNN(nn.Module):\n",
        "    def __init__(self):\n",
        "        super(CNN, self).__init__()\n",
        "        \n",
        "        self.conv1 = nn.Conv2d(1, 6, 5)\n",
        "        self.conv1_bn = nn.BatchNorm2d(6)\n",
        "        \n",
        "        self.pool = nn.MaxPool2d(2, 2)\n",
        "\n",
        "        self.conv2 = nn.Conv2d(6, 16, 5)\n",
        "        self.conv2_bn = nn.BatchNorm2d(16)\n",
        "\n",
        "        self.fc1 = nn.Linear(16 * 4 * 4, 125)\n",
        "        self.fc2 = nn.Linear(125, 90)\n",
        "        self.fc3 = nn.Linear(90, 10)\n",
        "\n",
        "        self.activation_function = nn.ReLU()\n",
        "        self.dropout = nn.Dropout(0.5)\n",
        "        \n",
        "    def forward(self, x):\n",
        "        \n",
        "        x = self.activation_function(self.conv1(x))\n",
        "        x = self.conv1_bn(x)\n",
        "        x = self.pool(x)\n",
        "        \n",
        "        # x = self.dropout(x)\n",
        "        \n",
        "        x = self.activation_function(self.conv2(x))\n",
        "        x = self.conv2_bn(x)\n",
        "        x = self.pool(x)\n",
        "\n",
        "         # x = self.dropout(x)\n",
        "        x = x.view(-1, 16 * 4 * 4)\n",
        "        \n",
        "        x = self.activation_function(self.fc1(x))\n",
        "        x = self.activation_function(self.fc2(x))\n",
        "        x = self.activation_function(self.fc3(x))\n",
        "        #x = self.fc3(x)\n",
        "        \n",
        "        return x"
      ],
      "execution_count": 0,
      "outputs": []
    },
    {
      "cell_type": "code",
      "metadata": {
        "id": "mIeiNYmv5Aq0",
        "colab_type": "code",
        "outputId": "6a8ed5e1-63ed-4969-89d3-39f3786e55da",
        "colab": {
          "base_uri": "https://localhost:8080/",
          "height": 50
        }
      },
      "source": [
        "## test the model with 1 batch\n",
        "model = CNN()\n",
        "for images, labels in train_loader:\n",
        "    print(\"batch size:\", images.shape)\n",
        "    out = model(images)\n",
        "    print(out.shape)\n",
        "    break"
      ],
      "execution_count": 0,
      "outputs": [
        {
          "output_type": "stream",
          "text": [
            "batch size: torch.Size([32, 1, 28, 28])\n",
            "torch.Size([32, 10])\n"
          ],
          "name": "stdout"
        }
      ]
    },
    {
      "cell_type": "code",
      "metadata": {
        "id": "M9Czbwmf5Dkk",
        "colab_type": "code",
        "outputId": "8e1760f2-14f6-4afc-db3a-530b06b57fc2",
        "colab": {
          "base_uri": "https://localhost:8080/",
          "height": 218
        }
      },
      "source": [
        "model = CNN()\n",
        "device = torch.device(\"cuda:0\" if torch.cuda.is_available() else \"cpu\")\n",
        "model = model.to(device)\n",
        "print(model)"
      ],
      "execution_count": 0,
      "outputs": [
        {
          "output_type": "stream",
          "text": [
            "CNN(\n",
            "  (conv1): Conv2d(1, 6, kernel_size=(5, 5), stride=(1, 1))\n",
            "  (conv1_bn): BatchNorm2d(6, eps=1e-05, momentum=0.1, affine=True, track_running_stats=True)\n",
            "  (pool): MaxPool2d(kernel_size=2, stride=2, padding=0, dilation=1, ceil_mode=False)\n",
            "  (conv2): Conv2d(6, 16, kernel_size=(5, 5), stride=(1, 1))\n",
            "  (conv2_bn): BatchNorm2d(16, eps=1e-05, momentum=0.1, affine=True, track_running_stats=True)\n",
            "  (fc1): Linear(in_features=256, out_features=125, bias=True)\n",
            "  (fc2): Linear(in_features=125, out_features=90, bias=True)\n",
            "  (fc3): Linear(in_features=90, out_features=10, bias=True)\n",
            "  (activation_function): ReLU()\n",
            "  (dropout): Dropout(p=0.5, inplace=False)\n",
            ")\n"
          ],
          "name": "stdout"
        }
      ]
    },
    {
      "cell_type": "code",
      "metadata": {
        "id": "AYZP7GFijZZp",
        "colab_type": "code",
        "colab": {}
      },
      "source": [
        "learning_rate = 0.001\n",
        "epochs = 15\n",
        "\n",
        "loss_fn = nn.CrossEntropyLoss()\n",
        "optimizer = torch.optim.SGD(model.parameters(), lr = learning_rate, momentum = 0.9)"
      ],
      "execution_count": 0,
      "outputs": []
    },
    {
      "cell_type": "code",
      "metadata": {
        "id": "ne7pK98m5GVN",
        "colab_type": "code",
        "outputId": "805f7277-94c0-4bd5-945e-94da1b0b0eee",
        "colab": {
          "base_uri": "https://localhost:8080/",
          "height": 269
        }
      },
      "source": [
        "train_losses = []\n",
        "running_losses_list = []\n",
        "train_accuracy_list = []\n",
        "\n",
        "for epoch in range(epochs):\n",
        "    i = 0\n",
        "    running_loss = 0.0\n",
        "    accuracy = 0.0\n",
        "    total = 0\n",
        "    correct = 0\n",
        "\n",
        "    model.train()\n",
        "    \n",
        "    for images, labels in train_loader:\n",
        "        images = images.to(device)\n",
        "        labels = labels.to(device)\n",
        "        \n",
        "        outputs = model(images)\n",
        "        loss = loss_fn(outputs, labels)\n",
        "\n",
        "        optimizer.zero_grad()\n",
        "        loss.backward()\n",
        "\n",
        "        optimizer.step()\n",
        "        \n",
        "        train_losses.append(loss.item())\n",
        "        running_loss += loss.item()\n",
        "        \n",
        "        _, predicted = torch.max(outputs.data, 1)\n",
        "        total += labels.size(0)\n",
        "        correct += (predicted == labels).sum().item()\n",
        "    \n",
        "    model.eval()\n",
        "    accuracy = correct / total\n",
        "    train_accuracy_list.append(accuracy)\n",
        "    running_losses_list.append(running_loss)\n",
        "\n",
        "    print(\"Epoch: %5d \\t Loss: %.5f \\t Accuracy: %.5f\" %(epoch+1, running_loss, accuracy))"
      ],
      "execution_count": 0,
      "outputs": [
        {
          "output_type": "stream",
          "text": [
            "Epoch:     1 \t Loss: 1843.34305 \t Accuracy: 0.65362\n",
            "Epoch:     2 \t Loss: 1365.82126 \t Accuracy: 0.70255\n",
            "Epoch:     3 \t Loss: 1330.36815 \t Accuracy: 0.70512\n",
            "Epoch:     4 \t Loss: 1184.81004 \t Accuracy: 0.74222\n",
            "Epoch:     5 \t Loss: 937.83770 \t Accuracy: 0.79555\n",
            "Epoch:     6 \t Loss: 920.76512 \t Accuracy: 0.79650\n",
            "Epoch:     7 \t Loss: 911.31247 \t Accuracy: 0.79750\n",
            "Epoch:     8 \t Loss: 904.61058 \t Accuracy: 0.79782\n",
            "Epoch:     9 \t Loss: 899.83830 \t Accuracy: 0.79820\n",
            "Epoch:    10 \t Loss: 895.47377 \t Accuracy: 0.79845\n",
            "Epoch:    11 \t Loss: 892.15538 \t Accuracy: 0.79888\n",
            "Epoch:    12 \t Loss: 888.49596 \t Accuracy: 0.79957\n",
            "Epoch:    13 \t Loss: 886.31172 \t Accuracy: 0.79972\n",
            "Epoch:    14 \t Loss: 882.93539 \t Accuracy: 0.80007\n",
            "Epoch:    15 \t Loss: 879.66994 \t Accuracy: 0.80025\n"
          ],
          "name": "stdout"
        }
      ]
    },
    {
      "cell_type": "code",
      "metadata": {
        "id": "JT6zcnuK5Ifh",
        "colab_type": "code",
        "outputId": "874cbb17-4648-4832-d0b6-1332869013a1",
        "colab": {
          "base_uri": "https://localhost:8080/",
          "height": 545
        }
      },
      "source": [
        "plt.plot(train_accuracy_list, label='')\n",
        "plt.title(\"Training Accuracy\")\n",
        "plt.show()\n",
        "\n",
        "plt.plot(running_losses_list, label='')\n",
        "plt.title(\"Training Losses\")\n",
        "plt.show()"
      ],
      "execution_count": 0,
      "outputs": [
        {
          "output_type": "display_data",
          "data": {
            "image/png": "[encoded data removed]",
            "text/plain": [
              "<Figure size 432x288 with 1 Axes>"
            ]
          },
          "metadata": {
            "tags": []
          }
        },
        {
          "output_type": "display_data",
          "data": {
            "image/png": "[encoded data removed]",
            "text/plain": [
              "<Figure size 432x288 with 1 Axes>"
            ]
          },
          "metadata": {
            "tags": []
          }
        }
      ]
    },
    {
      "cell_type": "code",
      "metadata": {
        "id": "Q6vvOesSs2kg",
        "colab_type": "code",
        "outputId": "6b5dc3e4-3e83-4d09-e14f-012d4370c09d",
        "colab": {
          "base_uri": "https://localhost:8080/",
          "height": 34
        }
      },
      "source": [
        "test_losses = []\n",
        "test_accuracies = []\n",
        "y_true = []\n",
        "y_pred = []\n",
        "correct = 0\n",
        "total = 0\n",
        "\n",
        "model.eval()\n",
        "\n",
        "with torch.no_grad():\n",
        "    for images, labels in test_loader:\n",
        "        images = images.to(device)\n",
        "        labels = labels.to(device)\n",
        "\n",
        "        outputs = model(images)\n",
        "        loss = loss_fn(outputs, labels)\n",
        "\n",
        "        test_losses.append(loss.item())\n",
        "        \n",
        "        _, predicted = torch.max(outputs.data, 1)\n",
        "        total += labels.size(0)\n",
        "        correct += (predicted == labels).sum().item()\n",
        "\n",
        "        y_true.extend(labels.flatten().tolist())\n",
        "        y_pred.extend(predicted.flatten().tolist())\n",
        "        \n",
        "accuracy = correct / total\n",
        "\n",
        "#test_accuracies.append(accuracy)\n",
        "print('Epochs: {} \\t Train Loss: {:.4f} \\t Test Loss: {:.4f} \\t Test Accuracy: {:.2f}'\\\n",
        "     .format(epoch+1, np.mean(train_losses), np.mean(test_losses), accuracy))"
      ],
      "execution_count": 0,
      "outputs": [
        {
          "output_type": "stream",
          "text": [
            "Epochs: 15 \t Train Loss: 0.5555 \t Test Loss: 0.4907 \t Test Accuracy: 0.80\n"
          ],
          "name": "stdout"
        }
      ]
    },
    {
      "cell_type": "code",
      "metadata": {
        "id": "i-4g_IuVs4kf",
        "colab_type": "code",
        "outputId": "2306e167-852d-4464-be17-c14000cfc437",
        "colab": {
          "base_uri": "https://localhost:8080/",
          "height": 606
        }
      },
      "source": [
        "classes = ('0', '1', '2', '3', '4', '5', '6', '7', '8', '9')\n",
        "cm = confusion_matrix(y_true, y_pred)\n",
        "df_cm = pd.DataFrame(cm, index=classes, columns=classes)\n",
        "\n",
        "plt.figure(figsize=(12,10))\n",
        "ax = sn.heatmap(df_cm, annot=True, cmap=plt.cm.YlGnBu, fmt='d')\n",
        "\n",
        "bottom, top = ax.get_ylim()\n",
        "ax.set_ylim(bottom + 0.5, top - 0.5)\n",
        "\n",
        "plt.ylabel('True Label')\n",
        "plt.xlabel('Predicted Label')\n",
        "plt.show()"
      ],
      "execution_count": 0,
      "outputs": [
        {
          "output_type": "display_data",
          "data": {
            "image/png": "[encoded data removed]",
            "text/plain": [
              "<Figure size 864x720 with 2 Axes>"
            ]
          },
          "metadata": {
            "tags": []
          }
        }
      ]
    }
  ]
}